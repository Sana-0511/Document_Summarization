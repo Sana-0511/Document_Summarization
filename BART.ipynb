{
  "nbformat": 4,
  "nbformat_minor": 0,
  "metadata": {
    "colab": {
      "provenance": [],
      "include_colab_link": true
    },
    "kernelspec": {
      "name": "python3",
      "display_name": "Python 3"
    },
    "language_info": {
      "name": "python"
    }
  },
  "cells": [
    {
      "cell_type": "markdown",
      "metadata": {
        "id": "view-in-github",
        "colab_type": "text"
      },
      "source": [
        "<a href=\"https://colab.research.google.com/github/Sana-0511/Document_Summarization-/blob/main/BART.ipynb\" target=\"_parent\"><img src=\"https://colab.research.google.com/assets/colab-badge.svg\" alt=\"Open In Colab\"/></a>"
      ]
    },
    {
      "cell_type": "markdown",
      "source": [
        "# BART"
      ],
      "metadata": {
        "id": "UEf0gCYCXi1o"
      }
    },
    {
      "cell_type": "code",
      "source": [
        "pip install transformers"
      ],
      "metadata": {
        "id": "kxUK7pfanCxS",
        "colab": {
          "base_uri": "https://localhost:8080/"
        },
        "outputId": "ad206154-c552-46ee-dffa-6e7a8ad5ad2b"
      },
      "execution_count": null,
      "outputs": [
        {
          "output_type": "stream",
          "name": "stdout",
          "text": [
            "Requirement already satisfied: transformers in /usr/local/lib/python3.10/dist-packages (4.35.2)\n",
            "Requirement already satisfied: filelock in /usr/local/lib/python3.10/dist-packages (from transformers) (3.13.1)\n",
            "Requirement already satisfied: huggingface-hub<1.0,>=0.16.4 in /usr/local/lib/python3.10/dist-packages (from transformers) (0.20.2)\n",
            "Requirement already satisfied: numpy>=1.17 in /usr/local/lib/python3.10/dist-packages (from transformers) (1.23.5)\n",
            "Requirement already satisfied: packaging>=20.0 in /usr/local/lib/python3.10/dist-packages (from transformers) (23.2)\n",
            "Requirement already satisfied: pyyaml>=5.1 in /usr/local/lib/python3.10/dist-packages (from transformers) (6.0.1)\n",
            "Requirement already satisfied: regex!=2019.12.17 in /usr/local/lib/python3.10/dist-packages (from transformers) (2023.6.3)\n",
            "Requirement already satisfied: requests in /usr/local/lib/python3.10/dist-packages (from transformers) (2.31.0)\n",
            "Requirement already satisfied: tokenizers<0.19,>=0.14 in /usr/local/lib/python3.10/dist-packages (from transformers) (0.15.0)\n",
            "Requirement already satisfied: safetensors>=0.3.1 in /usr/local/lib/python3.10/dist-packages (from transformers) (0.4.1)\n",
            "Requirement already satisfied: tqdm>=4.27 in /usr/local/lib/python3.10/dist-packages (from transformers) (4.66.1)\n",
            "Requirement already satisfied: fsspec>=2023.5.0 in /usr/local/lib/python3.10/dist-packages (from huggingface-hub<1.0,>=0.16.4->transformers) (2023.6.0)\n",
            "Requirement already satisfied: typing-extensions>=3.7.4.3 in /usr/local/lib/python3.10/dist-packages (from huggingface-hub<1.0,>=0.16.4->transformers) (4.5.0)\n",
            "Requirement already satisfied: charset-normalizer<4,>=2 in /usr/local/lib/python3.10/dist-packages (from requests->transformers) (3.3.2)\n",
            "Requirement already satisfied: idna<4,>=2.5 in /usr/local/lib/python3.10/dist-packages (from requests->transformers) (3.6)\n",
            "Requirement already satisfied: urllib3<3,>=1.21.1 in /usr/local/lib/python3.10/dist-packages (from requests->transformers) (2.0.7)\n",
            "Requirement already satisfied: certifi>=2017.4.17 in /usr/local/lib/python3.10/dist-packages (from requests->transformers) (2023.11.17)\n"
          ]
        }
      ]
    },
    {
      "cell_type": "code",
      "source": [
        "# Install the required utility\n",
        "!apt-get install wget\n",
        "\n",
        "# Import the necessary libraries\n",
        "import zipfile\n",
        "import os\n",
        "\n",
        "# Provide the Google Drive link\n",
        "google_drive_link = 'https://drive.google.com/uc?id=1FV5aYhpvl6NFrH7aYzEVg8pmO_yokYoI'\n",
        "\n",
        "# Specify the output file name\n",
        "zip_file = 'example.zip'\n",
        "\n",
        "# Download the zip file\n",
        "!wget --no-check-certificate $google_drive_link -O $zip_file\n",
        "\n",
        "# Create a directory to extract the contents\n",
        "extracted_dir = 'extracted_content'\n",
        "os.makedirs(extracted_dir, exist_ok=True)\n",
        "\n",
        "# Extract the contents of the zip file\n",
        "with zipfile.ZipFile(zip_file, 'r') as zip_ref:\n",
        "    zip_ref.extractall(extracted_dir)\n",
        "\n",
        "# List the files in the extracted directory\n",
        "extracted_files = os.listdir(extracted_dir)\n",
        "print(\"Files extracted:\", extracted_files)"
      ],
      "metadata": {
        "colab": {
          "base_uri": "https://localhost:8080/"
        },
        "id": "Hi4NUgwSiJuf",
        "outputId": "0ece6ef6-448e-419a-9822-8fe111a7acb4"
      },
      "execution_count": null,
      "outputs": [
        {
          "output_type": "stream",
          "name": "stdout",
          "text": [
            "Reading package lists... Done\n",
            "Building dependency tree... Done\n",
            "Reading state information... Done\n",
            "wget is already the newest version (1.21.2-2ubuntu1).\n",
            "0 upgraded, 0 newly installed, 0 to remove and 30 not upgraded.\n",
            "--2024-01-23 05:04:03--  https://drive.google.com/uc?id=1FV5aYhpvl6NFrH7aYzEVg8pmO_yokYoI\n",
            "Resolving drive.google.com (drive.google.com)... 173.194.212.100, 173.194.212.138, 173.194.212.113, ...\n",
            "Connecting to drive.google.com (drive.google.com)|173.194.212.100|:443... connected.\n",
            "HTTP request sent, awaiting response... 303 See Other\n",
            "Location: https://drive.usercontent.google.com/download?id=1FV5aYhpvl6NFrH7aYzEVg8pmO_yokYoI [following]\n",
            "--2024-01-23 05:04:03--  https://drive.usercontent.google.com/download?id=1FV5aYhpvl6NFrH7aYzEVg8pmO_yokYoI\n",
            "Resolving drive.usercontent.google.com (drive.usercontent.google.com)... 74.125.196.132, 2607:f8b0:400c:c36::84\n",
            "Connecting to drive.usercontent.google.com (drive.usercontent.google.com)|74.125.196.132|:443... connected.\n",
            "HTTP request sent, awaiting response... 200 OK\n",
            "Length: 2572 (2.5K) [application/octet-stream]\n",
            "Saving to: ‘example.zip’\n",
            "\n",
            "example.zip         100%[===================>]   2.51K  --.-KB/s    in 0s      \n",
            "\n",
            "2024-01-23 05:04:04 (73.5 MB/s) - ‘example.zip’ saved [2572/2572]\n",
            "\n",
            "Files extracted: ['example']\n"
          ]
        }
      ]
    },
    {
      "cell_type": "code",
      "source": [
        "import torch\n",
        "from transformers import BartForConditionalGeneration, BartTokenizer\n",
        "\n",
        "# Load pre-trained BART tokenizer and model\n",
        "tokenizer = BartTokenizer.from_pretrained('facebook/bart-large-cnn')\n",
        "model = BartForConditionalGeneration.from_pretrained('facebook/bart-large-cnn')"
      ],
      "metadata": {
        "id": "1lC3ks3tUgGd"
      },
      "execution_count": null,
      "outputs": []
    },
    {
      "cell_type": "markdown",
      "source": [
        "## Generate Method"
      ],
      "metadata": {
        "id": "TJwwfgo4tAof"
      }
    },
    {
      "cell_type": "code",
      "source": [
        "# Load the content of the text file\n",
        "file_path = '/content/extracted_content/example/msft.txt'\n",
        "with open(file_path, 'r', encoding='utf-8') as file:\n",
        "    text = file.read()\n",
        "\n",
        "# Tokenize and encode the input text\n",
        "inputs = tokenizer.encode(\"summarize: \" + text, return_tensors=\"pt\", max_length=1024, truncation=True)\n",
        "\n",
        "# Generate the summary using the BART model\n",
        "summary_ids = model.generate(inputs, max_length=150, length_penalty=2.0, num_beams=4, early_stopping=True)\n",
        "\n",
        "# Decode the generated summary and print it\n",
        "summary_text = tokenizer.decode(summary_ids[0], skip_special_tokens=True)\n",
        "print(\"Original Text:\")\n",
        "print(text)\n",
        "print(\"\\nSummary:\")\n",
        "print(summary_text)"
      ],
      "metadata": {
        "colab": {
          "base_uri": "https://localhost:8080/"
        },
        "id": "lVzf7EgMiCfk",
        "outputId": "941c369b-62ee-446b-8e81-6049d7273349"
      },
      "execution_count": null,
      "outputs": [
        {
          "output_type": "stream",
          "name": "stdout",
          "text": [
            "Original Text:\n",
            "In an attempt to build an AI-ready workforce, Microsoft announced Intelligent Cloud Hub which has been launched to empower the next generation of students with AI-ready skills. Envisioned as a three-year collaborative program, Intelligent Cloud Hub will support around 100 institutions with AI infrastructure, course content and curriculum, developer support, development tools and give students access to cloud and AI services. As part of the program, the Redmond giant which wants to expand its reach and is planning to build a strong developer ecosystem in India with the program will set up the core AI infrastructure and IoT Hub for the selected campuses. The company will provide AI development tools and Azure AI services such as Microsoft Cognitive Services, Bot Services and Azure Machine Learning.According to Manish Prakash, Country General Manager-PS, Health and Education, Microsoft India, said, \"With AI being the defining technology of our time, it is transforming lives and industry and the jobs of tomorrow will require a different skillset. This will require more collaborations and training and working with AI. That’s why it has become more critical than ever for educational institutions to integrate new cloud and AI technologies. The program is an attempt to ramp up the institutional set-up and build capabilities among the educators to educate the workforce of tomorrow.\" The program aims to build up the cognitive skills and in-depth understanding of developing intelligent cloud connected solutions for applications across industry. Earlier in April this year, the company announced Microsoft Professional Program In AI as a learning track open to the public. The program was developed to provide job ready skills to programmers who wanted to hone their skills in AI and data science with a series of online courses which featured hands-on labs and expert instructors as well. This program also included developer-focused AI school that provided a bunch of assets to help build AI skills.\n",
            "\n",
            "Summary:\n",
            "Intelligent Cloud Hub will support around 100 institutions with AI infrastructure, course content and curriculum. Redmond giant wants to expand its reach and is planning to build a strong developer ecosystem in India. The program aims to build up the cognitive skills and in-depth understanding of developing intelligent cloud connected solutions for applications across industry.\n"
          ]
        }
      ]
    },
    {
      "cell_type": "markdown",
      "source": [
        "Original Text:\n",
        "In an attempt to build an AI-ready workforce, Microsoft announced Intelligent Cloud Hub which has been launched to empower the next generation of students with AI-ready skills. Envisioned as a three-year collaborative program, Intelligent Cloud Hub will support around 100 institutions with AI infrastructure, course content and curriculum, developer support, development tools and give students access to cloud and AI services. As part of the program, the Redmond giant which wants to expand its reach and is planning to build a strong developer ecosystem in India with the program will set up the core AI infrastructure and IoT Hub for the selected campuses. The company will provide AI development tools and Azure AI services such as Microsoft Cognitive Services, Bot Services and Azure Machine Learning.According to Manish Prakash, Country General Manager-PS, Health and Education, Microsoft India, said, \"With AI being the defining technology of our time, it is transforming lives and industry and the jobs of tomorrow will require a different skillset. This will require more collaborations and training and working with AI. That’s why it has become more critical than ever for educational institutions to integrate new cloud and AI technologies. The program is an attempt to ramp up the institutional set-up and build capabilities among the educators to educate the workforce of tomorrow.\" The program aims to build up the cognitive skills and in-depth understanding of developing intelligent cloud connected solutions for applications across industry. Earlier in April this year, the company announced Microsoft Professional Program In AI as a learning track open to the public. The program was developed to provide job ready skills to programmers who wanted to hone their skills in AI and data science with a series of online courses which featured hands-on labs and expert instructors as well. This program also included developer-focused AI school that provided a bunch of assets to help build AI skills.\n",
        "\n",
        "Summary:\n",
        "Intelligent Cloud Hub will support around 100 institutions with AI infrastructure, course content and curriculum. Redmond giant wants to expand its reach and is planning to build a strong developer ecosystem in India. The program aims to build up the cognitive skills and in-depth understanding of developing intelligent cloud connected solutions for applications across industry."
      ],
      "metadata": {
        "id": "3dFNrPGwV2cR"
      }
    },
    {
      "cell_type": "markdown",
      "source": [
        "ROUGE scores provide information on precision (p), recall (r), and F1-score (f) for ROUGE-1, ROUGE-2, and ROUGE-L metrics.\n",
        "\n",
        "These scores provide an evaluation of the generated summary against the original text. In general:\n",
        "\n",
        "- Precision measures how many of the generated n-grams were correct.\n",
        "- Recall measures how many of the original n-grams were captured by the generated summary.\n",
        "- F1-score is the harmonic mean of precision and recall and provides a balanced measure."
      ],
      "metadata": {
        "id": "_Tm15k8E-zqf"
      }
    },
    {
      "cell_type": "code",
      "source": [
        "!pip install rouge\n",
        "from rouge import Rouge\n",
        "\n",
        "# Your original text and generated summary\n",
        "original_text = text\n",
        "generated_summary = summary_text\n",
        "\n",
        "# Initialize the Rouge object\n",
        "rouge = Rouge()\n",
        "\n",
        "# Calculate ROUGE scores\n",
        "scores = rouge.get_scores(generated_summary, original_text)\n",
        "\n",
        "# Print the scores\n",
        "print(\"ROUGE Scores:\")\n",
        "print(scores)"
      ],
      "metadata": {
        "colab": {
          "base_uri": "https://localhost:8080/"
        },
        "id": "vZlK34as97pW",
        "outputId": "fb99502e-4ee1-4e2d-838e-ecbfd6675473"
      },
      "execution_count": null,
      "outputs": [
        {
          "output_type": "stream",
          "name": "stdout",
          "text": [
            "Requirement already satisfied: rouge in /usr/local/lib/python3.10/dist-packages (1.0.1)\n",
            "Requirement already satisfied: six in /usr/local/lib/python3.10/dist-packages (from rouge) (1.16.0)\n",
            "ROUGE Scores:\n",
            "[{'rouge-1': {'r': 0.27071823204419887, 'p': 0.98, 'f': 0.42424242085043384}, 'rouge-2': {'r': 0.16666666666666666, 'p': 0.9245283018867925, 'f': 0.2824207466913603}, 'rouge-l': {'r': 0.27071823204419887, 'p': 0.98, 'f': 0.42424242085043384}}]\n"
          ]
        }
      ]
    },
    {
      "cell_type": "markdown",
      "source": [
        "ROUGE-1:\n",
        "\n",
        "Precision (p): 0.980\n",
        "Recall (r): 0.271\n",
        "F1-score (f): 0.424\n",
        "\n",
        "ROUGE-2:\n",
        "\n",
        "Precision (p): 0.925\n",
        "Recall (r): 0.167\n",
        "F1-score (f): 0.282\n",
        "\n",
        "ROUGE-L:\n",
        "\n",
        "Precision (p): 0.980\n",
        "Recall (r): 0.271\n",
        "F1-score (f): 0.424\n",
        "\n",
        "These scores indicate that the generated summary has high precision but lower recall. In other words, the generated summary includes a significant portion of correct n-grams, but it might miss some important content present in the original text."
      ],
      "metadata": {
        "id": "ywLL16uj97E6"
      }
    },
    {
      "cell_type": "code",
      "source": [
        "# Load the content of the text file\n",
        "file_path = '/content/extracted_content/example/computer.txt'\n",
        "with open(file_path, 'r', encoding='utf-8') as file:\n",
        "    text = file.read()\n",
        "\n",
        "# Tokenize and encode the input text\n",
        "inputs = tokenizer.encode(\"summarize: \" + text, return_tensors=\"pt\", max_length=1024, truncation=True)\n",
        "\n",
        "# Generate the summary using the BART model\n",
        "summary_ids = model.generate(inputs, max_length=150, length_penalty=2.0, num_beams=4, early_stopping=True)\n",
        "\n",
        "# Decode the generated summary and print it\n",
        "summary_text = tokenizer.decode(summary_ids[0], skip_special_tokens=True)\n",
        "print(\"Original Text:\")\n",
        "print(text)\n",
        "print(\"\\nSummary:\")\n",
        "print(summary_text)"
      ],
      "metadata": {
        "colab": {
          "base_uri": "https://localhost:8080/"
        },
        "id": "nKyCr6NZiEPa",
        "outputId": "bb5a0b94-db42-4915-e63e-124ac3b68e61"
      },
      "execution_count": null,
      "outputs": [
        {
          "output_type": "stream",
          "name": "stdout",
          "text": [
            "Original Text:\n",
            "A computer is a machine that can be programmed to carry out sequences of arithmetic or logical operations automatically. Modern digital electronic computers can perform generic sets of operations known as programs. These programs enable computers to perform a wide range of tasks. A computer system is a nominally complete computer that includes the hardware, operating system, and peripheral equipment needed and used for full operation. This term may also refer to a group of computers that are linked and function together, such as a computer network or computer cluster. A broad range of industrial and consumer products use computers as control systems. Simple special-purpose devices like microwave ovens and remote controls are included, as are factory devices like industrial robots and computer-aided design, as well as general-purpose devices like personal computers and mobile devices like smartphones. Computers power the Internet, which links billions of other computers and users.\n",
            "\n",
            "Summary:\n",
            "A computer is a machine that can be programmed to carry out sequences of arithmetic or logical operations automatically. Modern digital electronic computers can perform generic sets of operations known as programs. These programs enable computers to perform a wide range of tasks. A computer system is a nominally complete computer that includes the hardware, operating system, and peripheral equipment.\n"
          ]
        }
      ]
    },
    {
      "cell_type": "markdown",
      "source": [
        "Original Text:\n",
        "A computer is a machine that can be programmed to carry out sequences of arithmetic or logical operations automatically. Modern digital electronic computers can perform generic sets of operations known as programs. These programs enable computers to perform a wide range of tasks. A computer system is a nominally complete computer that includes the hardware, operating system, and peripheral equipment needed and used for full operation. This term may also refer to a group of computers that are linked and function together, such as a computer network or computer cluster. A broad range of industrial and consumer products use computers as control systems. Simple special-purpose devices like microwave ovens and remote controls are included, as are factory devices like industrial robots and computer-aided design, as well as general-purpose devices like personal computers and mobile devices like smartphones. Computers power the Internet, which links billions of other computers and users.\n",
        "\n",
        "Summary:\n",
        "A computer is a machine that can be programmed to carry out sequences of arithmetic or logical operations automatically. Modern digital electronic computers can perform generic sets of operations known as programs. These programs enable computers to perform a wide range of tasks. A computer system is a nominally complete computer that includes the hardware, operating system, and peripheral equipment."
      ],
      "metadata": {
        "id": "mP2G9OgLjCWG"
      }
    },
    {
      "cell_type": "code",
      "source": [
        "!pip install rouge\n",
        "from rouge import Rouge\n",
        "\n",
        "# Your original text and generated summary\n",
        "original_text = text\n",
        "generated_summary = summary_text\n",
        "\n",
        "# Initialize the Rouge object\n",
        "rouge = Rouge()\n",
        "\n",
        "# Calculate ROUGE scores\n",
        "scores = rouge.get_scores(generated_summary, original_text)\n",
        "\n",
        "# Print the scores\n",
        "print(\"ROUGE Scores:\")\n",
        "print(scores)"
      ],
      "metadata": {
        "colab": {
          "base_uri": "https://localhost:8080/"
        },
        "id": "L9ZanA-I93SG",
        "outputId": "90b029cf-ffe5-4210-b3db-299caba46970"
      },
      "execution_count": null,
      "outputs": [
        {
          "output_type": "stream",
          "name": "stdout",
          "text": [
            "Requirement already satisfied: rouge in /usr/local/lib/python3.10/dist-packages (1.0.1)\n",
            "Requirement already satisfied: six in /usr/local/lib/python3.10/dist-packages (from rouge) (1.16.0)\n",
            "ROUGE Scores:\n",
            "[{'rouge-1': {'r': 0.46875, 'p': 1.0, 'f': 0.6382978679945678}, 'rouge-2': {'r': 0.40425531914893614, 'p': 1.0, 'f': 0.575757571657484}, 'rouge-l': {'r': 0.46875, 'p': 1.0, 'f': 0.6382978679945678}}]\n"
          ]
        }
      ]
    },
    {
      "cell_type": "markdown",
      "source": [
        "ROUGE-1:\n",
        "\n",
        "Precision (p): 1.000\n",
        "Recall (r): 0.469\n",
        "F1-score (f): 0.638\n",
        "\n",
        "ROUGE-2:\n",
        "\n",
        "Precision (p): 1.000\n",
        "Recall (r): 0.404\n",
        "F1-score (f): 0.576\n",
        "\n",
        "ROUGE-L:\n",
        "\n",
        "Precision (p): 1.000\n",
        "Recall (r): 0.469\n",
        "F1-score (f): 0.638\n",
        "\n",
        "These scores indicate a high level of precision, suggesting that the generated summary contains a substantial amount of correct n-grams. However, the recall values are not as high, indicating that there might be some important content in the original text that is not captured by the generated summary.\n",
        "\n"
      ],
      "metadata": {
        "id": "2n2hbpcE94jQ"
      }
    },
    {
      "cell_type": "code",
      "source": [
        "# Load the content of the text file\n",
        "file_path = '/content/extracted_content/example/space.txt'\n",
        "with open(file_path, 'r', encoding='utf-8') as file:\n",
        "    text = file.read()\n",
        "\n",
        "# Tokenize and encode the input text\n",
        "inputs = tokenizer.encode(\"summarize: \" + text, return_tensors=\"pt\", max_length=1024, truncation=True)\n",
        "\n",
        "# Generate the summary using the BART model\n",
        "summary_ids = model.generate(inputs, max_length=150, length_penalty=2.0, num_beams=4, early_stopping=True)\n",
        "\n",
        "# Decode the generated summary and print it\n",
        "summary_text = tokenizer.decode(summary_ids[0], skip_special_tokens=True)\n",
        "print(\"Original Text:\")\n",
        "print(text)\n",
        "print(\"\\nSummary:\")\n",
        "print(summary_text)"
      ],
      "metadata": {
        "colab": {
          "base_uri": "https://localhost:8080/"
        },
        "id": "AGjsRwlgiEyD",
        "outputId": "cd5fefe1-8140-4227-ff46-833f50c5d01a"
      },
      "execution_count": null,
      "outputs": [
        {
          "output_type": "stream",
          "name": "stdout",
          "text": [
            "Original Text:\n",
            "A white hole is a bizarre cosmic object which is intensely bright, and from which matter gushes rather than disappears. In other words, it’s the exact opposite of a black hole. But unlike black holes, there’s no consensus about whether white holes exist, or how they’d be formed.They are predicted by Einstein’s theory of gravity, and are most often mentioned in the context of ‘wormholes’, in which a black hole acts as the entry point to a tunnel through space and time, ending in a white hole somewhere else in the Universe. But this is deeply controversial, because Einstein’s theory predicts the existence of a so-called singularity at the centre of black holes – a state of infinite gravity which would prevent anything from passing through to the white hole on the other side. The process starts when an old massive star collapses under its own weight and forms a black hole. But then, quantum effects occurring around the surface of the black hole halt further collapse to a singularity, and instead begin to gradually turn the black hole into a white hole that’s spewing out the original star matter again. The process is mind-bendingly slow, though, so we may be in for a very long wait to find out if white holes really exist.\n",
            "\n",
            "Summary:\n",
            "Unlike black holes, there’s no consensus about whether white holes exist, or how they’d be formed. The process starts when an old massive star collapses under its own weight and forms a black hole. But then, quantum effects occurring around the surface of the black hole halt further collapse to a singularity, and instead begin to gradually turn it into a white hole.\n"
          ]
        }
      ]
    },
    {
      "cell_type": "markdown",
      "source": [
        "Original Text:\n",
        "A white hole is a bizarre cosmic object which is intensely bright, and from which matter gushes rather than disappears. In other words, it’s the exact opposite of a black hole. But unlike black holes, there’s no consensus about whether white holes exist, or how they’d be formed.They are predicted by Einstein’s theory of gravity, and are most often mentioned in the context of ‘wormholes’, in which a black hole acts as the entry point to a tunnel through space and time, ending in a white hole somewhere else in the Universe. But this is deeply controversial, because Einstein’s theory predicts the existence of a so-called singularity at the centre of black holes – a state of infinite gravity which would prevent anything from passing through to the white hole on the other side. The process starts when an old massive star collapses under its own weight and forms a black hole. But then, quantum effects occurring around the surface of the black hole halt further collapse to a singularity, and instead begin to gradually turn the black hole into a white hole that’s spewing out the original star matter again. The process is mind-bendingly slow, though, so we may be in for a very long wait to find out if white holes really exist.\n",
        "\n",
        "Summary:\n",
        "Unlike black holes, there’s no consensus about whether white holes exist, or how they’d be formed. The process starts when an old massive star collapses under its own weight and forms a black hole. But then, quantum effects occurring around the surface of the black hole halt further collapse to a singularity, and instead begin to gradually turn it into a white hole."
      ],
      "metadata": {
        "id": "JjtX8zGWjUto"
      }
    },
    {
      "cell_type": "code",
      "source": [
        "!pip install rouge\n",
        "from rouge import Rouge\n",
        "\n",
        "# Your original text and generated summary\n",
        "original_text = text\n",
        "generated_summary = summary_text\n",
        "\n",
        "# Initialize the Rouge object\n",
        "rouge = Rouge()\n",
        "\n",
        "# Calculate ROUGE scores\n",
        "scores = rouge.get_scores(generated_summary, original_text)\n",
        "\n",
        "# Print the scores\n",
        "print(\"ROUGE Scores:\")\n",
        "print(scores)"
      ],
      "metadata": {
        "id": "UWgasL1adOLN",
        "colab": {
          "base_uri": "https://localhost:8080/"
        },
        "outputId": "3e4a7908-7225-4833-b2a6-8557189065d5"
      },
      "execution_count": null,
      "outputs": [
        {
          "output_type": "stream",
          "name": "stdout",
          "text": [
            "Requirement already satisfied: rouge in /usr/local/lib/python3.10/dist-packages (1.0.1)\n",
            "Requirement already satisfied: six in /usr/local/lib/python3.10/dist-packages (from rouge) (1.16.0)\n",
            "ROUGE Scores:\n",
            "[{'rouge-1': {'r': 0.375, 'p': 0.9622641509433962, 'f': 0.5396825356468185}, 'rouge-2': {'r': 0.2893401015228426, 'p': 0.9344262295081968, 'f': 0.44186046150561864}, 'rouge-l': {'r': 0.375, 'p': 0.9622641509433962, 'f': 0.5396825356468185}}]\n"
          ]
        }
      ]
    },
    {
      "cell_type": "markdown",
      "source": [
        "ROUGE-1:\n",
        "\n",
        "Precision (p): 0.962\n",
        "Recall (r): 0.375\n",
        "F1-score (f): 0.540\n",
        "\n",
        "ROUGE-2:\n",
        "\n",
        "Precision (p): 0.934\n",
        "Recall (r): 0.289\n",
        "F1-score (f): 0.442\n",
        "\n",
        "ROUGE-L:\n",
        "\n",
        "Precision (p): 0.962\n",
        "Recall (r): 0.375\n",
        "F1-score (f): 0.540\n",
        "\n",
        "These scores indicate that the generated summary has high precision but lower recall. In other words, the generated summary includes a significant portion of correct n-grams, but it might miss some important content present in the original text."
      ],
      "metadata": {
        "id": "zwn8-9dZ9Pzp"
      }
    },
    {
      "cell_type": "markdown",
      "source": [
        "## Pipeline Method"
      ],
      "metadata": {
        "id": "GjVYdCWItJVM"
      }
    },
    {
      "cell_type": "code",
      "source": [
        "import torch\n",
        "from transformers import BartForConditionalGeneration, BartTokenizer\n",
        "from transformers import pipeline\n",
        "\n",
        "summarizer = pipeline(\"summarization\", model=\"facebook/bart-large-cnn\")"
      ],
      "metadata": {
        "id": "n5r-rxTztbd2"
      },
      "execution_count": null,
      "outputs": []
    },
    {
      "cell_type": "code",
      "source": [
        "# Load the content of the text file\n",
        "file_path = '/content/extracted_content/example/msft.txt'\n",
        "with open(file_path, 'r', encoding='utf-8') as file:\n",
        "    text = file.read()\n",
        "\n",
        "print(\"Original Text:\")\n",
        "print(text)\n",
        "print(\"\\nSummary:\")\n",
        "print(summarizer(text, max_length=200, min_length=30, do_sample=False))\n"
      ],
      "metadata": {
        "colab": {
          "base_uri": "https://localhost:8080/"
        },
        "id": "QDnWhfavsyW5",
        "outputId": "94b51c04-1f9e-47b7-e49b-cc95e86bf1c5"
      },
      "execution_count": null,
      "outputs": [
        {
          "output_type": "stream",
          "name": "stdout",
          "text": [
            "Original Text:\n",
            "In an attempt to build an AI-ready workforce, Microsoft announced Intelligent Cloud Hub which has been launched to empower the next generation of students with AI-ready skills. Envisioned as a three-year collaborative program, Intelligent Cloud Hub will support around 100 institutions with AI infrastructure, course content and curriculum, developer support, development tools and give students access to cloud and AI services. As part of the program, the Redmond giant which wants to expand its reach and is planning to build a strong developer ecosystem in India with the program will set up the core AI infrastructure and IoT Hub for the selected campuses. The company will provide AI development tools and Azure AI services such as Microsoft Cognitive Services, Bot Services and Azure Machine Learning.According to Manish Prakash, Country General Manager-PS, Health and Education, Microsoft India, said, \"With AI being the defining technology of our time, it is transforming lives and industry and the jobs of tomorrow will require a different skillset. This will require more collaborations and training and working with AI. That’s why it has become more critical than ever for educational institutions to integrate new cloud and AI technologies. The program is an attempt to ramp up the institutional set-up and build capabilities among the educators to educate the workforce of tomorrow.\" The program aims to build up the cognitive skills and in-depth understanding of developing intelligent cloud connected solutions for applications across industry. Earlier in April this year, the company announced Microsoft Professional Program In AI as a learning track open to the public. The program was developed to provide job ready skills to programmers who wanted to hone their skills in AI and data science with a series of online courses which featured hands-on labs and expert instructors as well. This program also included developer-focused AI school that provided a bunch of assets to help build AI skills.\n",
            "\n",
            "Summary:\n",
            "[{'summary_text': 'Intelligent Cloud Hub will support around 100 institutions with AI infrastructure, course content and curriculum. Redmond giant wants to expand its reach and is planning to build a strong developer ecosystem in India. The company will provide AI development tools and Azure AI services.'}]\n"
          ]
        }
      ]
    },
    {
      "cell_type": "markdown",
      "source": [
        "Original Text:\n",
        "In an attempt to build an AI-ready workforce, Microsoft announced Intelligent Cloud Hub which has been launched to empower the next generation of students with AI-ready skills. Envisioned as a three-year collaborative program, Intelligent Cloud Hub will support around 100 institutions with AI infrastructure, course content and curriculum, developer support, development tools and give students access to cloud and AI services. As part of the program, the Redmond giant which wants to expand its reach and is planning to build a strong developer ecosystem in India with the program will set up the core AI infrastructure and IoT Hub for the selected campuses. The company will provide AI development tools and Azure AI services such as Microsoft Cognitive Services, Bot Services and Azure Machine Learning.According to Manish Prakash, Country General Manager-PS, Health and Education, Microsoft India, said, \"With AI being the defining technology of our time, it is transforming lives and industry and the jobs of tomorrow will require a different skillset. This will require more collaborations and training and working with AI. That’s why it has become more critical than ever for educational institutions to integrate new cloud and AI technologies. The program is an attempt to ramp up the institutional set-up and build capabilities among the educators to educate the workforce of tomorrow.\" The program aims to build up the cognitive skills and in-depth understanding of developing intelligent cloud connected solutions for applications across industry. Earlier in April this year, the company announced Microsoft Professional Program In AI as a learning track open to the public. The program was developed to provide job ready skills to programmers who wanted to hone their skills in AI and data science with a series of online courses which featured hands-on labs and expert instructors as well. This program also included developer-focused AI school that provided a bunch of assets to help build AI skills.\n",
        "\n",
        "Summary:\n",
        "Intelligent Cloud Hub will support around 100 institutions with AI infrastructure, course content and curriculum. Redmond giant wants to expand its reach and is planning to build a strong developer ecosystem in India. The company will provide AI development tools and Azure AI services."
      ],
      "metadata": {
        "id": "Yd2Pi1bluGfd"
      }
    },
    {
      "cell_type": "code",
      "source": [
        "# Load the content of the text file\n",
        "file_path = '/content/extracted_content/example/computer.txt'\n",
        "with open(file_path, 'r', encoding='utf-8') as file:\n",
        "    text = file.read()\n",
        "\n",
        "print(\"Original Text:\")\n",
        "print(text)\n",
        "print(\"\\nSummary:\")\n",
        "print(summarizer(text, max_length=150, min_length=30, do_sample=False))"
      ],
      "metadata": {
        "colab": {
          "base_uri": "https://localhost:8080/"
        },
        "id": "ZAZjRXHztdQU",
        "outputId": "67b4eebc-8c2a-4dd5-cae9-28f62fe5fa98"
      },
      "execution_count": null,
      "outputs": [
        {
          "output_type": "stream",
          "name": "stdout",
          "text": [
            "Original Text:\n",
            "A computer is a machine that can be programmed to carry out sequences of arithmetic or logical operations automatically. Modern digital electronic computers can perform generic sets of operations known as programs. These programs enable computers to perform a wide range of tasks. A computer system is a nominally complete computer that includes the hardware, operating system, and peripheral equipment needed and used for full operation. This term may also refer to a group of computers that are linked and function together, such as a computer network or computer cluster. A broad range of industrial and consumer products use computers as control systems. Simple special-purpose devices like microwave ovens and remote controls are included, as are factory devices like industrial robots and computer-aided design, as well as general-purpose devices like personal computers and mobile devices like smartphones. Computers power the Internet, which links billions of other computers and users.\n",
            "\n",
            "Summary:\n",
            "[{'summary_text': 'A computer is a machine that can be programmed to carry out sequences of arithmetic or logical operations automatically. Modern digital electronic computers can perform generic sets of operations known as programs. A computer system is a nominally complete computer that includes the hardware, operating system, and peripheral equipment needed and used for full operation.'}]\n"
          ]
        }
      ]
    },
    {
      "cell_type": "markdown",
      "source": [
        "Original Text:\n",
        "A computer is a machine that can be programmed to carry out sequences of arithmetic or logical operations automatically. Modern digital electronic computers can perform generic sets of operations known as programs. These programs enable computers to perform a wide range of tasks. A computer system is a nominally complete computer that includes the hardware, operating system, and peripheral equipment needed and used for full operation. This term may also refer to a group of computers that are linked and function together, such as a computer network or computer cluster. A broad range of industrial and consumer products use computers as control systems. Simple special-purpose devices like microwave ovens and remote controls are included, as are factory devices like industrial robots and computer-aided design, as well as general-purpose devices like personal computers and mobile devices like smartphones. Computers power the Internet, which links billions of other computers and users.\n",
        "\n",
        "Summary:\n",
        "A computer is a machine that can be programmed to carry out sequences of arithmetic or logical operations automatically. Modern digital electronic computers can perform generic sets of operations known as programs. A computer system is a nominally complete computer that includes the hardware, operating system, and peripheral equipment needed and used for full operation."
      ],
      "metadata": {
        "id": "X77qIVn7xG2V"
      }
    },
    {
      "cell_type": "code",
      "source": [
        "# Load the content of the text file\n",
        "file_path = '/content/extracted_content/example/space.txt'\n",
        "with open(file_path, 'r', encoding='utf-8') as file:\n",
        "    text = file.read()\n",
        "\n",
        "print(\"Original Text:\")\n",
        "print(text)\n",
        "print(\"\\nSummary:\")\n",
        "print(summarizer(text, max_length=130, min_length=30, do_sample=False))\n"
      ],
      "metadata": {
        "colab": {
          "base_uri": "https://localhost:8080/"
        },
        "id": "U0D9XAN8td6L",
        "outputId": "eedaa74a-6885-41a0-9204-5296cdcc0031"
      },
      "execution_count": null,
      "outputs": [
        {
          "output_type": "stream",
          "name": "stdout",
          "text": [
            "Original Text:\n",
            "A white hole is a bizarre cosmic object which is intensely bright, and from which matter gushes rather than disappears. In other words, it’s the exact opposite of a black hole. But unlike black holes, there’s no consensus about whether white holes exist, or how they’d be formed.They are predicted by Einstein’s theory of gravity, and are most often mentioned in the context of ‘wormholes’, in which a black hole acts as the entry point to a tunnel through space and time, ending in a white hole somewhere else in the Universe. But this is deeply controversial, because Einstein’s theory predicts the existence of a so-called singularity at the centre of black holes – a state of infinite gravity which would prevent anything from passing through to the white hole on the other side. The process starts when an old massive star collapses under its own weight and forms a black hole. But then, quantum effects occurring around the surface of the black hole halt further collapse to a singularity, and instead begin to gradually turn the black hole into a white hole that’s spewing out the original star matter again. The process is mind-bendingly slow, though, so we may be in for a very long wait to find out if white holes really exist.\n",
            "\n",
            "Summary:\n",
            "[{'summary_text': \"A white hole is a cosmic object which is intensely bright, and from which matter gushes rather than disappears. They are predicted by Einstein’s theory of gravity, and are most often mentioned in the context of ‘wormholes’, in which a black hole acts as the entry point to a tunnel through space and time, ending in a white hole somewhere else in the Universe. But unlike black holes, there's no consensus about whether white holes exist, or how they’d be formed.\"}]\n"
          ]
        }
      ]
    },
    {
      "cell_type": "markdown",
      "source": [
        "Original Text:\n",
        "A white hole is a bizarre cosmic object which is intensely bright, and from which matter gushes rather than disappears. In other words, it’s the exact opposite of a black hole. But unlike black holes, there’s no consensus about whether white holes exist, or how they’d be formed.They are predicted by Einstein’s theory of gravity, and are most often mentioned in the context of ‘wormholes’, in which a black hole acts as the entry point to a tunnel through space and time, ending in a white hole somewhere else in the Universe. But this is deeply controversial, because Einstein’s theory predicts the existence of a so-called singularity at the centre of black holes – a state of infinite gravity which would prevent anything from passing through to the white hole on the other side. The process starts when an old massive star collapses under its own weight and forms a black hole. But then, quantum effects occurring around the surface of the black hole halt further collapse to a singularity, and instead begin to gradually turn the black hole into a white hole that’s spewing out the original star matter again. The process is mind-bendingly slow, though, so we may be in for a very long wait to find out if white holes really exist.\n",
        "\n",
        "Summary:\n",
        "A white hole is a cosmic object which is intensely bright, and from which matter gushes rather than disappears. They are predicted by Einstein’s theory of gravity, and are most often mentioned in the context of ‘wormholes’, in which a black hole acts as the entry point to a tunnel through space and time, ending in a white hole somewhere else in the Universe. But unlike black holes, there's no consensus about whether white holes exist, or how they’d be formed."
      ],
      "metadata": {
        "id": "Di70wqQSxxYk"
      }
    },
    {
      "cell_type": "code",
      "source": [
        "text = \"\"\" New York (CNN)When Liana Barrientos was 23 years old, she got married in Westchester County, New York.\n",
        "A year later, she got married again in Westchester County, but to a different man and without divorcing her first husband.\n",
        "Only 18 days after that marriage, she got hitched yet again. Then, Barrientos declared \"I do\" five more times, sometimes only within two weeks of each other.\n",
        "In 2010, she married once more, this time in the Bronx. In an application for a marriage license, she stated it was her \"first and only\" marriage.\n",
        "Barrientos, now 39, is facing two criminal counts of \"offering a false instrument for filing in the first degree,\" referring to her false statements on the\n",
        "2010 marriage license application, according to court documents.\n",
        "Prosecutors said the marriages were part of an immigration scam.\n",
        "On Friday, she pleaded not guilty at State Supreme Court in the Bronx, according to her attorney, Christopher Wright, who declined to comment further.\n",
        "After leaving court, Barrientos was arrested and charged with theft of service and criminal trespass for allegedly sneaking into the New York subway through an emergency exit, said Detective\n",
        "Annette Markowski, a police spokeswoman. In total, Barrientos has been married 10 times, with nine of her marriages occurring between 1999 and 2002.\n",
        "All occurred either in Westchester County, Long Island, New Jersey or the Bronx. She is believed to still be married to four men, and at one time, she was married to eight men at once, prosecutors say.\n",
        "Prosecutors said the immigration scam involved some of her husbands, who filed for permanent residence status shortly after the marriages.\n",
        "Any divorces happened only after such filings were approved. It was unclear whether any of the men will be prosecuted.\n",
        "The case was referred to the Bronx District Attorney\\'s Office by Immigration and Customs Enforcement and the Department of Homeland Security\\'s\n",
        "Investigation Division. Seven of the men are from so-called \"red-flagged\" countries, including Egypt, Turkey, Georgia, Pakistan and Mali.\n",
        "Her eighth husband, Rashid Rajput, was deported in 2006 to his native Pakistan after an investigation by the Joint Terrorism Task Force.\n",
        "If convicted, Barrientos faces up to four years in prison.  Her next court appearance is scheduled for May 18.\n",
        "\"\"\"\n",
        "print(\"Original Text:\")\n",
        "print(text)\n",
        "print(\"\\nSummary:\")\n",
        "print(summarizer(text, max_length=150, min_length=30, do_sample=False))\n"
      ],
      "metadata": {
        "colab": {
          "base_uri": "https://localhost:8080/"
        },
        "id": "w_okwzgBCJxZ",
        "outputId": "674253d5-e40d-4dae-9df3-aa6a7f9182a5"
      },
      "execution_count": null,
      "outputs": [
        {
          "output_type": "stream",
          "name": "stdout",
          "text": [
            "Original Text:\n",
            " New York (CNN)When Liana Barrientos was 23 years old, she got married in Westchester County, New York.\n",
            "A year later, she got married again in Westchester County, but to a different man and without divorcing her first husband.\n",
            "Only 18 days after that marriage, she got hitched yet again. Then, Barrientos declared \"I do\" five more times, sometimes only within two weeks of each other.\n",
            "In 2010, she married once more, this time in the Bronx. In an application for a marriage license, she stated it was her \"first and only\" marriage.\n",
            "Barrientos, now 39, is facing two criminal counts of \"offering a false instrument for filing in the first degree,\" referring to her false statements on the\n",
            "2010 marriage license application, according to court documents.\n",
            "Prosecutors said the marriages were part of an immigration scam.\n",
            "On Friday, she pleaded not guilty at State Supreme Court in the Bronx, according to her attorney, Christopher Wright, who declined to comment further.\n",
            "After leaving court, Barrientos was arrested and charged with theft of service and criminal trespass for allegedly sneaking into the New York subway through an emergency exit, said Detective\n",
            "Annette Markowski, a police spokeswoman. In total, Barrientos has been married 10 times, with nine of her marriages occurring between 1999 and 2002.\n",
            "All occurred either in Westchester County, Long Island, New Jersey or the Bronx. She is believed to still be married to four men, and at one time, she was married to eight men at once, prosecutors say.\n",
            "Prosecutors said the immigration scam involved some of her husbands, who filed for permanent residence status shortly after the marriages.\n",
            "Any divorces happened only after such filings were approved. It was unclear whether any of the men will be prosecuted.\n",
            "The case was referred to the Bronx District Attorney's Office by Immigration and Customs Enforcement and the Department of Homeland Security's\n",
            "Investigation Division. Seven of the men are from so-called \"red-flagged\" countries, including Egypt, Turkey, Georgia, Pakistan and Mali.\n",
            "Her eighth husband, Rashid Rajput, was deported in 2006 to his native Pakistan after an investigation by the Joint Terrorism Task Force.\n",
            "If convicted, Barrientos faces up to four years in prison.  Her next court appearance is scheduled for May 18.\n",
            "\n",
            "\n",
            "Summary:\n",
            "[{'summary_text': 'Liana Barrientos, 39, is charged with two counts of \"offering a false instrument for filing in the first degree\" In total, she has been married 10 times, with nine of her marriages occurring between 1999 and 2002. She is believed to still be married to four men.'}]\n"
          ]
        }
      ]
    },
    {
      "cell_type": "markdown",
      "source": [
        "Original Text:\n",
        " New York (CNN)When Liana Barrientos was 23 years old, she got married in Westchester County, New York.\n",
        "A year later, she got married again in Westchester County, but to a different man and without divorcing her first husband.\n",
        "Only 18 days after that marriage, she got hitched yet again. Then, Barrientos declared \"I do\" five more times, sometimes only within two weeks of each other.\n",
        "In 2010, she married once more, this time in the Bronx. In an application for a marriage license, she stated it was her \"first and only\" marriage.\n",
        "Barrientos, now 39, is facing two criminal counts of \"offering a false instrument for filing in the first degree,\" referring to her false statements on the\n",
        "2010 marriage license application, according to court documents.\n",
        "Prosecutors said the marriages were part of an immigration scam.\n",
        "On Friday, she pleaded not guilty at State Supreme Court in the Bronx, according to her attorney, Christopher Wright, who declined to comment further.\n",
        "After leaving court, Barrientos was arrested and charged with theft of service and criminal trespass for allegedly sneaking into the New York subway through an emergency exit, said Detective\n",
        "Annette Markowski, a police spokeswoman. In total, Barrientos has been married 10 times, with nine of her marriages occurring between 1999 and 2002.\n",
        "All occurred either in Westchester County, Long Island, New Jersey or the Bronx. She is believed to still be married to four men, and at one time, she was married to eight men at once, prosecutors say.\n",
        "Prosecutors said the immigration scam involved some of her husbands, who filed for permanent residence status shortly after the marriages.\n",
        "Any divorces happened only after such filings were approved. It was unclear whether any of the men will be prosecuted.\n",
        "The case was referred to the Bronx District Attorney's Office by Immigration and Customs Enforcement and the Department of Homeland Security's\n",
        "Investigation Division. Seven of the men are from so-called \"red-flagged\" countries, including Egypt, Turkey, Georgia, Pakistan and Mali.\n",
        "Her eighth husband, Rashid Rajput, was deported in 2006 to his native Pakistan after an investigation by the Joint Terrorism Task Force.\n",
        "If convicted, Barrientos faces up to four years in prison.  Her next court appearance is scheduled for May 18.\n",
        "\n",
        "Summary : Liana Barrientos, 39, is charged with two counts of \"offering a false instrument for filing in the first degree\" In total, she has been married 10 times, with nine of her marriages occurring between 1999 and 2002. She is believed to still be married to four men."
      ],
      "metadata": {
        "id": "m1Wyv3JhCgyQ"
      }
    },
    {
      "cell_type": "code",
      "source": [
        "text = \"\"\" A Namibian cheetah has given birth to three cubs at the Kuno National Park in Madhya Pradesh, weeks after three cubs were born to another feline.\n",
        "\n",
        "Union Environment Minister Bhupender Yadav shared the news on X, saying, \"Kuno's new cubs! Namibian Cheetah named Jwala has given birth to three cubs. This comes just weeks after Namibian Cheetah Aasha gave birth to her cubs.\" He further said in the post, \"Congratulations to all wildlife frontline warriors and wildlife lovers across the country. May Bharat's wildlife thrive.\" On January 3, Kuno National Park officials reported that Namibian cheetah Aasha had given birth to three cubs.\n",
        "\n",
        "Before this, Jwala (Namibian name Siyaya) had given birth to four cubs last March. However, only one of them survived.\n",
        "\n",
        "Jwala and Aasha are among the cheetahs translocated to India from Namibia under Prime Minister Narendra Modi's 'Project Cheetah', aimed at re-introducing the only large carnivore species that went extinct in independent India.\n",
        "\n",
        "The first batch of eight cheetahs was introduced in India in September 2022.\n",
        "\n",
        "The second batch of 12 cheetahs was flown in from South Africa last February.\"\"\"\n",
        "\n",
        "print(\"Original Text:\")\n",
        "print(text)\n",
        "print(\"\\nSummary:\")\n",
        "print(summarizer(text, max_length=150, min_length=30, do_sample=False))"
      ],
      "metadata": {
        "colab": {
          "base_uri": "https://localhost:8080/"
        },
        "id": "84DAY_FvHB_P",
        "outputId": "7aa3cb17-e4ea-4ce5-879b-cbd27fd40cd3"
      },
      "execution_count": null,
      "outputs": [
        {
          "output_type": "stream",
          "name": "stdout",
          "text": [
            "Original Text:\n",
            " A Namibian cheetah has given birth to three cubs at the Kuno National Park in Madhya Pradesh, weeks after three cubs were born to another feline.\n",
            "\n",
            "Union Environment Minister Bhupender Yadav shared the news on X, saying, \"Kuno's new cubs! Namibian Cheetah named Jwala has given birth to three cubs. This comes just weeks after Namibian Cheetah Aasha gave birth to her cubs.\" He further said in the post, \"Congratulations to all wildlife frontline warriors and wildlife lovers across the country. May Bharat's wildlife thrive.\" On January 3, Kuno National Park officials reported that Namibian cheetah Aasha had given birth to three cubs.\n",
            "\n",
            "Before this, Jwala (Namibian name Siyaya) had given birth to four cubs last March. However, only one of them survived.\n",
            "\n",
            "Jwala and Aasha are among the cheetahs translocated to India from Namibia under Prime Minister Narendra Modi's 'Project Cheetah', aimed at re-introducing the only large carnivore species that went extinct in independent India.\n",
            "\n",
            "The first batch of eight cheetahs was introduced in India in September 2022.\n",
            "\n",
            "The second batch of 12 cheetahs was flown in from South Africa last February.\n",
            "\n",
            "Summary:\n",
            "[{'summary_text': 'A Namibian cheetah has given birth to three cubs at the Kuno National Park in Madhya Pradesh. On January 3, Kuno national Park officials reported that Namibians Aasha and Jwala had given birth. The first batch of eight cheetahs was introduced in India in September 2022.'}]\n"
          ]
        }
      ]
    },
    {
      "cell_type": "markdown",
      "source": [
        "Original Text:\n",
        " A Namibian cheetah has given birth to three cubs at the Kuno National Park in Madhya Pradesh, weeks after three cubs were born to another feline.\n",
        "\n",
        "Union Environment Minister Bhupender Yadav shared the news on X, saying, \"Kuno's new cubs! Namibian Cheetah named Jwala has given birth to three cubs. This comes just weeks after Namibian Cheetah Aasha gave birth to her cubs.\" He further said in the post, \"Congratulations to all wildlife frontline warriors and wildlife lovers across the country. May Bharat's wildlife thrive.\" On January 3, Kuno National Park officials reported that Namibian cheetah Aasha had given birth to three cubs.\n",
        "\n",
        "Before this, Jwala (Namibian name Siyaya) had given birth to four cubs last March. However, only one of them survived.\n",
        "\n",
        "Jwala and Aasha are among the cheetahs translocated to India from Namibia under Prime Minister Narendra Modi's 'Project Cheetah', aimed at re-introducing the only large carnivore species that went extinct in independent India.\n",
        "\n",
        "The first batch of eight cheetahs was introduced in India in September 2022.\n",
        "\n",
        "The second batch of 12 cheetahs was flown in from South Africa last February.\n",
        "\n",
        "Summary:\n",
        "A Namibian cheetah has given birth to three cubs at the Kuno National Park in Madhya Pradesh. On January 3, Kuno national Park officials reported that Namibians Aasha and Jwala had given birth. The first batch of eight cheetahs was introduced in India in September 2022."
      ],
      "metadata": {
        "id": "8WFRdZkiHPtN"
      }
    },
    {
      "cell_type": "code",
      "source": [
        "text = \"\"\"Firm GDP growth forecast, inflation at manageable levels, political stability at the central government level, and signs that the central banks the world over are done with their monetary policy tightening have painted a bright picture for India - which many agencies have termed to be the fastest-growing major economy.\n",
        "\n",
        "The strong inflow of funds from foreign portfolio investors (FPIs) lately also supported the stocks to march towards all-time highs. Notably, foreign portfolio investors have again trained their sight towards India, becoming net buyers in the country's stock market. In the process, it helped Indian benchmark stock indices taste their all-time highs recently.\n",
        "\n",
        "India, which last year became the most populous country has positioned itself as an alternative to China, attracting fresh capital from global investors and companies alike, thanks to its stable political setup and a consumption-driven economy that remains among the fastest-growing of major nations, the Bloomberg report said.\n",
        "\n",
        "As Indian stocks rallied, it coincided with a historic slump in Hong Kong, where some of China's most influential and innovative firms are listed.\n",
        "\n",
        "According to the news report, stringent anti-COVID-19 curbs, regulatory crackdowns on corporations, a property-sector crisis and geopolitical tensions with the West have all combined to erode China's appeal as the world's growth engine.\n",
        "\n",
        "According to the news report, new listings have dried up in Hong Kong, with the Asian financial hub losing its status as one of the world's busiest venues for initial public offerings (IPOs). \"\"\"\n",
        "\n",
        "print(\"Original Text:\")\n",
        "print(text)\n",
        "print(\"\\nSummary:\")\n",
        "print(summarizer(text, max_length=250, min_length=30, do_sample=False))\n"
      ],
      "metadata": {
        "colab": {
          "base_uri": "https://localhost:8080/"
        },
        "id": "wYw-UTOvHr_S",
        "outputId": "13d05a42-0157-427e-b4f9-fbc1d7b94e0e"
      },
      "execution_count": null,
      "outputs": [
        {
          "output_type": "stream",
          "name": "stdout",
          "text": [
            "Original Text:\n",
            "Firm GDP growth forecast, inflation at manageable levels, political stability at the central government level, and signs that the central banks the world over are done with their monetary policy tightening have painted a bright picture for India - which many agencies have termed to be the fastest-growing major economy.\n",
            "\n",
            "The strong inflow of funds from foreign portfolio investors (FPIs) lately also supported the stocks to march towards all-time highs. Notably, foreign portfolio investors have again trained their sight towards India, becoming net buyers in the country's stock market. In the process, it helped Indian benchmark stock indices taste their all-time highs recently.\n",
            "\n",
            "India, which last year became the most populous country has positioned itself as an alternative to China, attracting fresh capital from global investors and companies alike, thanks to its stable political setup and a consumption-driven economy that remains among the fastest-growing of major nations, the Bloomberg report said.\n",
            "\n",
            "As Indian stocks rallied, it coincided with a historic slump in Hong Kong, where some of China's most influential and innovative firms are listed.\n",
            "\n",
            "According to the news report, stringent anti-COVID-19 curbs, regulatory crackdowns on corporations, a property-sector crisis and geopolitical tensions with the West have all combined to erode China's appeal as the world's growth engine.\n",
            "\n",
            "According to the news report, new listings have dried up in Hong Kong, with the Asian financial hub losing its status as one of the world's busiest venues for initial public offerings (IPOs). \n",
            "\n",
            "Summary:\n",
            "[{'summary_text': \"The world's fastest-growing economy, India, has seen a surge in its stock market. The country's economy is expected to grow at a faster rate than the rest of the world.\"}]\n"
          ]
        }
      ]
    },
    {
      "cell_type": "markdown",
      "source": [
        "Original Text:\n",
        " Firm GDP growth forecast, inflation at manageable levels, political stability at the central government level, and signs that the central banks the world over are done with their monetary policy tightening have painted a bright picture for India - which many agencies have termed to be the fastest-growing major economy.\n",
        "\n",
        "The strong inflow of funds from foreign portfolio investors (FPIs) lately also supported the stocks to march towards all-time highs. Notably, foreign portfolio investors have again trained their sight towards India, becoming net buyers in the country's stock market. In the process, it helped Indian benchmark stock indices taste their all-time highs recently.\n",
        "\n",
        "India, which last year became the most populous country has positioned itself as an alternative to China, attracting fresh capital from global investors and companies alike, thanks to its stable political setup and a consumption-driven economy that remains among the fastest-growing of major nations, the Bloomberg report said.\n",
        "\n",
        "As Indian stocks rallied, it coincided with a historic slump in Hong Kong, where some of China's most influential and innovative firms are listed.\n",
        "\n",
        "According to the news report, stringent anti-COVID-19 curbs, regulatory crackdowns on corporations, a property-sector crisis and geopolitical tensions with the West have all combined to erode China's appeal as the world's growth engine.\n",
        "\n",
        "According to the news report, new listings have dried up in Hong Kong, with the Asian financial hub losing its status as one of the world's busiest venues for initial public offerings (IPOs).\n",
        "\n",
        "Summary:\n",
        "The world's fastest-growing economy, India, has seen a surge in its stock market. The country's economy is expected to grow at a faster rate than the rest of the world."
      ],
      "metadata": {
        "id": "pnjQGGFNH-Un"
      }
    },
    {
      "cell_type": "markdown",
      "source": [
        "## REFERENCES\n",
        "https://blog.paperspace.com/bart-model-for-text-summarization-part1/\n",
        "\n",
        "https://keras.io/examples/nlp/abstractive_summarization_with_bart/\n"
      ],
      "metadata": {
        "id": "nPMvoSN8cP9W"
      }
    },
    {
      "cell_type": "markdown",
      "source": [],
      "metadata": {
        "id": "VF5Eu2kkH30b"
      }
    },
    {
      "cell_type": "code",
      "source": [],
      "metadata": {
        "id": "7_CzPoavCjeK"
      },
      "execution_count": null,
      "outputs": []
    }
  ]
}