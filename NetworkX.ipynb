{
  "nbformat": 4,
  "nbformat_minor": 0,
  "metadata": {
    "colab": {
      "provenance": [],
      "include_colab_link": true
    },
    "kernelspec": {
      "name": "python3",
      "display_name": "Python 3"
    },
    "language_info": {
      "name": "python"
    }
  },
  "cells": [
    {
      "cell_type": "markdown",
      "metadata": {
        "id": "view-in-github",
        "colab_type": "text"
      },
      "source": [
        "<a href=\"https://colab.research.google.com/github/Sana-0511/Document_Summarization-/blob/main/NetworkX.ipynb\" target=\"_parent\"><img src=\"https://colab.research.google.com/assets/colab-badge.svg\" alt=\"Open In Colab\"/></a>"
      ]
    },
    {
      "cell_type": "code",
      "execution_count": null,
      "metadata": {
        "id": "UKiFERYkj9nH",
        "colab": {
          "base_uri": "https://localhost:8080/"
        },
        "outputId": "3e7eaf23-e1ad-4de5-8ccb-f2fca10e1be3"
      },
      "outputs": [
        {
          "output_type": "stream",
          "name": "stderr",
          "text": [
            "[nltk_data] Downloading package punkt to /root/nltk_data...\n",
            "[nltk_data]   Package punkt is already up-to-date!\n",
            "[nltk_data] Downloading package stopwords to /root/nltk_data...\n",
            "[nltk_data]   Package stopwords is already up-to-date!\n"
          ]
        },
        {
          "output_type": "execute_result",
          "data": {
            "text/plain": [
              "True"
            ]
          },
          "metadata": {},
          "execution_count": 6
        }
      ],
      "source": [
        "# Import the Natural Language Toolkit (nltk) for natural language processing tasks\n",
        "import nltk\n",
        "# Import the stopwords corpus from nltk, which contains common words to be ignored in text analysis\n",
        "from nltk.corpus import stopwords\n",
        "# Import cosine_distance function from nltk's cluster module to compute cosine similarity between vectors\n",
        "from nltk.cluster.util import cosine_distance\n",
        "# Import NumPy, a library for numerical operations, to work with numerical arrays\n",
        "import numpy as np\n",
        "# Import NetworkX, a library for the creation, manipulation, and study of the structure, dynamics, and functions of complex networks\n",
        "import networkx as nx\n",
        "from sklearn.metrics.pairwise import cosine_similarity\n",
        "import nltk\n",
        "nltk.download('punkt')\n",
        "nltk.download(\"stopwords\")"
      ]
    },
    {
      "cell_type": "code",
      "source": [
        "# Install the required utility\n",
        "!apt-get install wget\n",
        "\n",
        "# Import the necessary libraries\n",
        "import zipfile\n",
        "import os\n",
        "\n",
        "# Provide the Google Drive link\n",
        "google_drive_link = 'https://drive.google.com/uc?id=1FV5aYhpvl6NFrH7aYzEVg8pmO_yokYoI'\n",
        "\n",
        "# Specify the output file name\n",
        "zip_file = 'example.zip'\n",
        "\n",
        "# Download the zip file\n",
        "!wget --no-check-certificate $google_drive_link -O $zip_file\n",
        "\n",
        "# Create a directory to extract the contents\n",
        "extracted_dir = 'extracted_content'\n",
        "os.makedirs(extracted_dir, exist_ok=True)\n",
        "\n",
        "# Extract the contents of the zip file\n",
        "with zipfile.ZipFile(zip_file, 'r') as zip_ref:\n",
        "    zip_ref.extractall(extracted_dir)\n",
        "\n",
        "# List the files in the extracted directory\n",
        "extracted_files = os.listdir(extracted_dir)\n",
        "print(\"Files extracted:\", extracted_files)"
      ],
      "metadata": {
        "colab": {
          "base_uri": "https://localhost:8080/"
        },
        "id": "yBt16vtQimsb",
        "outputId": "a95c6a25-8311-4a91-8602-fa94a7feede7"
      },
      "execution_count": null,
      "outputs": [
        {
          "output_type": "stream",
          "name": "stdout",
          "text": [
            "Reading package lists... Done\n",
            "Building dependency tree... Done\n",
            "Reading state information... Done\n",
            "wget is already the newest version (1.21.2-2ubuntu1).\n",
            "0 upgraded, 0 newly installed, 0 to remove and 24 not upgraded.\n",
            "--2024-01-12 09:25:38--  https://drive.google.com/uc?id=1FV5aYhpvl6NFrH7aYzEVg8pmO_yokYoI\n",
            "Resolving drive.google.com (drive.google.com)... 142.251.2.139, 142.251.2.102, 142.251.2.101, ...\n",
            "Connecting to drive.google.com (drive.google.com)|142.251.2.139|:443... connected.\n",
            "HTTP request sent, awaiting response... 303 See Other\n",
            "Location: https://drive.usercontent.google.com/download?id=1FV5aYhpvl6NFrH7aYzEVg8pmO_yokYoI [following]\n",
            "--2024-01-12 09:25:38--  https://drive.usercontent.google.com/download?id=1FV5aYhpvl6NFrH7aYzEVg8pmO_yokYoI\n",
            "Resolving drive.usercontent.google.com (drive.usercontent.google.com)... 142.251.2.132, 2607:f8b0:4023:c06::84\n",
            "Connecting to drive.usercontent.google.com (drive.usercontent.google.com)|142.251.2.132|:443... connected.\n",
            "HTTP request sent, awaiting response... 200 OK\n",
            "Length: 2572 (2.5K) [application/octet-stream]\n",
            "Saving to: ‘example.zip’\n",
            "\n",
            "example.zip         100%[===================>]   2.51K  --.-KB/s    in 0s      \n",
            "\n",
            "2024-01-12 09:25:39 (94.9 MB/s) - ‘example.zip’ saved [2572/2572]\n",
            "\n",
            "Files extracted: ['example']\n"
          ]
        }
      ]
    },
    {
      "cell_type": "code",
      "source": [
        "\n",
        "# Function to read an article from a file and split it into sentences\n",
        "def read_article(file_name):\n",
        "    file = open(file_name, \"r\")\n",
        "    filedata = file.readlines()\n",
        "    article = filedata[0].split(\". \")\n",
        "    sen = []\n",
        "\n",
        "    for sentence in article:\n",
        "        # Preprocess each sentence\n",
        "        sen.append(sentence.replace(\"[^a-zA-Z]\", \" \").split(\" \"))\n",
        "    sen.pop()\n",
        "\n",
        "    return sen"
      ],
      "metadata": {
        "id": "JyAklCJMv3mU"
      },
      "execution_count": null,
      "outputs": []
    },
    {
      "cell_type": "code",
      "source": [
        "# Function to compute the similarity between two sentences using cosine similarity\n",
        "def sentence_similarity(sen1, sen2, stopwords=None):\n",
        "    if stopwords is None:\n",
        "        stopwords = []\n",
        "\n",
        "    sen1 = [w.lower() for w in sen1]\n",
        "    sen2 = [w.lower() for w in sen2]\n",
        "\n",
        "    all_words = list(set(sen1 + sen2))\n",
        "\n",
        "    v1 = [0] * len(all_words) # vector1\n",
        "    v2 = [0] * len(all_words) # vector2\n",
        "\n",
        "    for w in sen1:\n",
        "        if w in stopwords:\n",
        "            continue\n",
        "        v1[all_words.index(w)] += 1\n",
        "\n",
        "    for w in sen2:\n",
        "        if w in stopwords:\n",
        "            continue\n",
        "        v2[all_words.index(w)] += 1\n",
        "\n",
        "    return 1 - cosine_similarity([v1], [v2])[0][0]"
      ],
      "metadata": {
        "id": "SLorSMxYkHHz"
      },
      "execution_count": null,
      "outputs": []
    },
    {
      "cell_type": "code",
      "source": [
        "# Function to generate a summary of the article\n",
        "def summary_generate(file_name, top_n=5, summary_length=None):\n",
        "    stop_words = stopwords.words('english')\n",
        "    summarize_text = []\n",
        "\n",
        "    # Read text and split it into sentences\n",
        "    sen = read_article(file_name)\n",
        "\n",
        "    # Generate Similarity Matrix across sentences\n",
        "    sentence_similarity_matrix = np.zeros((len(sen), len(sen)))\n",
        "\n",
        "    for i in range(len(sen)):\n",
        "        for j in range(len(sen)):\n",
        "            if i != j:\n",
        "                sentence_similarity_matrix[i][j] = sentence_similarity(sen[i], sen[j], stop_words)\n",
        "\n",
        "    # Rank sentences in the similarity matrix\n",
        "    sentence_similarity_graph = nx.from_numpy_array(sentence_similarity_matrix)\n",
        "    scores = nx.pagerank(sentence_similarity_graph)\n",
        "\n",
        "    # Sort the rank and pick top sentences\n",
        "    ranked_sen = sorted(((scores[i], s) for i, s in enumerate(sen)), reverse=True)\n",
        "\n",
        "    # Output the summarized text\n",
        "    total_words = 0\n",
        "    summary_index = 0\n",
        "    while total_words < summary_length:\n",
        "        total_words += len(ranked_sen[summary_index][1])\n",
        "        summary_index += 1\n",
        "\n",
        "    print(\"\\nSummarized Text: \\n\", \". \".join([\" \".join(ranked_sen[i][1]) for i in range(summary_index)]))\n",
        "    print(\"\\n\")\n"
      ],
      "metadata": {
        "id": "Ewl60M5vkMGh"
      },
      "execution_count": null,
      "outputs": []
    },
    {
      "cell_type": "code",
      "source": [
        "# Parameters:\n",
        "#  \"/content/msft.txt\": The file path of the article/text to be summarized.\n",
        "#  top_n=5: The number of top-ranked sentences to be included in the summary. Default is 5.\n",
        "#  summary_length=50: The maximum number of words you want in the summarized text. The summary will include sentences until this word limit is reached.\n",
        "#  If not specified (None), the summary will be based on the top_n sentences only.\n",
        "\n",
        "summary_generate(\"/content/extracted_content/example/msft.txt\", top_n=5, summary_length=50)\n"
      ],
      "metadata": {
        "id": "7wnU5h9qkTa3",
        "colab": {
          "base_uri": "https://localhost:8080/"
        },
        "outputId": "99463747-f52c-4d31-9896-b6f6824cfab3"
      },
      "execution_count": null,
      "outputs": [
        {
          "output_type": "stream",
          "name": "stdout",
          "text": [
            "\n",
            "Summarized Text: \n",
            " The program was developed to provide job ready skills to programmers who wanted to hone their skills in AI and data science with a series of online courses which featured hands-on labs and expert instructors as well. The program is an attempt to ramp up the institutional set-up and build capabilities among the educators to educate the workforce of tomorrow.\" The program aims to build up the cognitive skills and in-depth understanding of developing intelligent cloud connected solutions for applications across industry\n",
            "\n",
            "\n"
          ]
        }
      ]
    },
    {
      "cell_type": "markdown",
      "source": [
        "In an attempt to build an AI-ready workforce, Microsoft announced Intelligent Cloud Hub which has been launched to empower the next generation of students with AI-ready skills\n",
        "Envisioned as a three-year collaborative program, Intelligent Cloud Hub will support around 100 institutions with AI infrastructure, course content and curriculum, developer support, development tools and give students access to cloud and AI services\n",
        "As part of the program, the Redmond giant which wants to expand its reach and is planning to build a strong developer ecosystem in India with the program will set up the core AI infrastructure and IoT Hub for the selected campuses\n",
        "The company will provide AI development tools and Azure AI services such as Microsoft Cognitive Services, Bot Services and Azure Machine Learning.According to Manish Prakash, Country General Manager-PS, Health and Education, Microsoft India, said, \"With AI being the defining technology of our time, it is transforming lives and industry and the jobs of tomorrow will require a different skillset\n",
        "This will require more collaborations and training and working with AI\n",
        "That’s why it has become more critical than ever for educational institutions to integrate new cloud and AI technologies\n",
        "The program is an attempt to ramp up the institutional set-up and build capabilities among the educators to educate the workforce of tomorrow.\" The program aims to build up the cognitive skills and in-depth understanding of developing intelligent cloud connected solutions for applications across industry\n",
        "Earlier in April this year, the company announced Microsoft Professional Program In AI as a learning track open to the public\n",
        "The program was developed to provide job ready skills to programmers who wanted to hone their skills in AI and data science with a series of online courses which featured hands-on labs and expert instructors as well\n",
        "This program also included developer-focused AI school that provided a bunch of assets to help build AI skills.\n",
        "\n",
        "Summarized Text:\n",
        " The program was developed to provide job ready skills to programmers who wanted to hone their skills in AI and data science with a series of online courses which featured hands-on labs and expert instructors as well. The program is an attempt to ramp up the institutional set-up and build capabilities among the educators to educate the workforce of tomorrow.\" The program aims to build up the cognitive skills and in-depth understanding of developing intelligent cloud connected solutions for applications across industry"
      ],
      "metadata": {
        "id": "jKdKpJ04km2L"
      }
    },
    {
      "cell_type": "code",
      "source": [
        "summary_generate(\"/content/extracted_content/example/computer.txt\", top_n=5, summary_length=50)"
      ],
      "metadata": {
        "colab": {
          "base_uri": "https://localhost:8080/"
        },
        "id": "6A776RWxt9hY",
        "outputId": "0cbf0468-5000-45cb-88c2-47012b1385af"
      },
      "execution_count": null,
      "outputs": [
        {
          "output_type": "stream",
          "name": "stdout",
          "text": [
            "\n",
            "Summarized Text: \n",
            " Simple special-purpose devices like microwave ovens and remote controls are included, as are factory devices like industrial robots and computer-aided design, as well as general-purpose devices like personal computers and mobile devices like smartphones. A computer system is a nominally complete computer that includes the hardware, operating system, and peripheral equipment needed and used for full operation\n",
            "\n",
            "\n"
          ]
        }
      ]
    },
    {
      "cell_type": "markdown",
      "source": [
        "A computer is a machine that can be programmed to carry out sequences of arithmetic or logical operations automatically. Modern digital electronic computers can perform generic sets of operations known as programs. These programs enable computers to perform a wide range of tasks. A computer system is a nominally complete computer that includes the hardware, operating system, and peripheral equipment needed and used for full operation. This term may also refer to a group of computers that are linked and function together, such as a computer network or computer cluster. A broad range of industrial and consumer products use computers as control systems. Simple special-purpose devices like microwave ovens and remote controls are included, as are factory devices like industrial robots and computer-aided design, as well as general-purpose devices like personal computers and mobile devices like smartphones. Computers power the Internet, which links billions of other computers and users.\n",
        "\n",
        "Summarized Text:\n",
        " Simple special-purpose devices like microwave ovens and remote controls are included, as are factory devices like industrial robots and computer-aided design, as well as general-purpose devices like personal computers and mobile devices like smartphones. A computer system is a nominally complete computer that includes the hardware, operating system, and peripheral equipment needed and used for full operation"
      ],
      "metadata": {
        "id": "SBXtFnKIwUi1"
      }
    },
    {
      "cell_type": "code",
      "source": [
        "summary_generate(\"/content/extracted_content/example/space.txt\", top_n=5, summary_length=50)"
      ],
      "metadata": {
        "colab": {
          "base_uri": "https://localhost:8080/"
        },
        "id": "ZKJ4AnHNuESH",
        "outputId": "f63ac2af-c0d4-4f4b-b9c1-bfc2527ec824"
      },
      "execution_count": null,
      "outputs": [
        {
          "output_type": "stream",
          "name": "stdout",
          "text": [
            "\n",
            "Summarized Text: \n",
            " A white hole is a bizarre cosmic object which is intensely bright, and from which matter gushes rather than disappears. But this is deeply controversial, because Einstein’s theory predicts the existence of a so-called singularity at the centre of black holes – a state of infinite gravity which would prevent anything from passing through to the white hole on the other side\n",
            "\n",
            "\n"
          ]
        }
      ]
    },
    {
      "cell_type": "markdown",
      "source": [
        "A white hole is a bizarre cosmic object which is intensely bright, and from which matter gushes rather than disappears. In other words, it’s the exact opposite of a black hole. But unlike black holes, there’s no consensus about whether white holes exist, or how they’d be formed.They are predicted by Einstein’s theory of gravity, and are most often mentioned in the context of ‘wormholes’, in which a black hole acts as the entry point to a tunnel through space and time, ending in a white hole somewhere else in the Universe. But this is deeply controversial, because Einstein’s theory predicts the existence of a so-called singularity at the centre of black holes – a state of infinite gravity which would prevent anything from passing through to the white hole on the other side. The process starts when an old massive star collapses under its own weight and forms a black hole. But then, quantum effects occurring around the surface of the black hole halt further collapse to a singularity, and instead begin to gradually turn the black hole into a white hole that’s spewing out the original star matter again. The process is mind-bendingly slow, though, so we may be in for a very long wait to find out if white holes really exist.\n",
        "\n",
        "Summarized Text:\n",
        " A white hole is a bizarre cosmic object which is intensely bright, and from which matter gushes rather than disappears. But this is deeply controversial, because Einstein’s theory predicts the existence of a so-called singularity at the centre of black holes – a state of infinite gravity which would prevent anything from passing through to the white hole on the other side\n"
      ],
      "metadata": {
        "id": "6F1uh82LwfAg"
      }
    },
    {
      "cell_type": "markdown",
      "source": [
        "References\n",
        "\n",
        "https://medium.com/analytics-vidhyatext-summarization-using-nlp-3e85ad0c6349\n",
        "\n",
        "https://github.com/edubey/text-summarizer/blob/master/msft.txt\n",
        "\n",
        "https://www.analyticsvidhya.com/blog/2020/12tired-of-reading-long-articles-text-summarization-will-make-your-task-easier/\n",
        "\n",
        "https://medium.com/analytics-vidhya/text-summarization-in-python-using-extractive-method-including-end-to-end-implementation-2688b3fd1c8c\n",
        "\n"
      ],
      "metadata": {
        "id": "6_69hRD-kpXp"
      }
    },
    {
      "cell_type": "code",
      "source": [],
      "metadata": {
        "id": "ppoW4pAVeGFi"
      },
      "execution_count": null,
      "outputs": []
    }
  ]
}